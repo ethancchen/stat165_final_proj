{
 "cells": [
  {
   "cell_type": "code",
   "execution_count": 1,
   "metadata": {},
   "outputs": [],
   "source": [
    "from pathlib import Path\n",
    "import pandas as pd\n",
    "import re"
   ]
  },
  {
   "cell_type": "code",
   "execution_count": null,
   "metadata": {},
   "outputs": [],
   "source": [
    "RESULT_DIR = Path().resolve() / \"results\"\n",
    "assert RESULT_DIR.exists()\n",
    "GPT4_COMPARISON_RESPONSE = \"gpt4_comparison_response\"\n",
    "IS_SHUFFLED = \"is_shuffled\""
   ]
  },
  {
   "cell_type": "code",
   "execution_count": null,
   "metadata": {},
   "outputs": [],
   "source": [
    "result_files = list(RESULT_DIR.glob(\"*.csv\"))"
   ]
  },
  {
   "cell_type": "code",
   "execution_count": null,
   "metadata": {},
   "outputs": [],
   "source": [
    "file1 = result_files[0]"
   ]
  },
  {
   "cell_type": "code",
   "execution_count": null,
   "metadata": {},
   "outputs": [],
   "source": [
    "df = pd.read_csv(file1)"
   ]
  },
  {
   "cell_type": "code",
   "execution_count": null,
   "metadata": {},
   "outputs": [],
   "source": [
    "def find_patterns(text: str, is_shuffled: bool):\n",
    "    score_mapping = {\"A\": 0, \"B\": 1, \"C\": 0.5}\n",
    "    pattern = r\"\\[\\[([ABC])\\]\\]\"\n",
    "    matches = re.findall(pattern, text)\n",
    "    assert len(matches) == 1\n",
    "    final_verdict = matches[0]\n",
    "    if final_verdict == \"C\" or not is_shuffled:\n",
    "        return score_mapping[final_verdict]\n",
    "    return score_mapping[\"B\"] if final_verdict == \"A\" else score_mapping[\"A\"]"
   ]
  },
  {
   "cell_type": "code",
   "execution_count": null,
   "metadata": {},
   "outputs": [],
   "source": [
    "temp_text = df[GPT4_COMPARISON_RESPONSE][0]"
   ]
  },
  {
   "cell_type": "code",
   "execution_count": null,
   "metadata": {},
   "outputs": [],
   "source": [
    "winners = df.apply(lambda row: find_patterns(row[GPT4_COMPARISON_RESPONSE], row[IS_SHUFFLED]), axis = 1)\n",
    "winners"
   ]
  },
  {
   "cell_type": "markdown",
   "metadata": {},
   "source": [
    "## Calculate percentage (%) scores"
   ]
  },
  {
   "cell_type": "code",
   "execution_count": null,
   "metadata": {},
   "outputs": [],
   "source": [
    "winners.sum()"
   ]
  },
  {
   "cell_type": "code",
   "execution_count": null,
   "metadata": {},
   "outputs": [],
   "source": []
  }
 ],
 "metadata": {
  "kernelspec": {
   "display_name": "venv",
   "language": "python",
   "name": "python3"
  },
  "language_info": {
   "codemirror_mode": {
    "name": "ipython",
    "version": 3
   },
   "file_extension": ".py",
   "mimetype": "text/x-python",
   "name": "python",
   "nbconvert_exporter": "python",
   "pygments_lexer": "ipython3",
   "version": "3.11.8"
  }
 },
 "nbformat": 4,
 "nbformat_minor": 2
}
