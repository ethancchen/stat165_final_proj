{
 "cells": [
  {
   "cell_type": "markdown",
   "metadata": {},
   "source": [
    "## Calculate percentage (%) scores"
   ]
  },
  {
   "cell_type": "code",
   "execution_count": 1,
   "metadata": {},
   "outputs": [],
   "source": [
    "from pathlib import Path\n",
    "import pandas as pd\n",
    "import re"
   ]
  },
  {
   "cell_type": "code",
   "execution_count": 2,
   "metadata": {},
   "outputs": [],
   "source": [
    "GPT35_RESULT_DIR = Path().resolve() / \"gpt35_comparison_results\"\n",
    "LLAMA_BASE_RESULT_DIR = Path().resolve() / \"llama_base_comparison_results\"\n",
    "assert GPT35_RESULT_DIR.exists()\n",
    "assert LLAMA_BASE_RESULT_DIR.exists()\n",
    "\n",
    "GPT4_COMPARISON_RESPONSE = \"gpt4_comparison_response\"\n",
    "IS_SHUFFLED = \"is_shuffled\""
   ]
  },
  {
   "cell_type": "code",
   "execution_count": 3,
   "metadata": {},
   "outputs": [],
   "source": [
    "def get_scores(file: Path) -> int:\n",
    "    def get_score(text: str, is_shuffled: bool) -> float:\n",
    "        score_mapping = {\"A\": 0, \"B\": 1, \"C\": 0.5}\n",
    "        if text == \"Error in response\":\n",
    "            return score_mapping[\"A\"]\n",
    "        pattern = r\"\\[\\[([ABC])\\]\\]\"\n",
    "        matches = re.findall(pattern, text)\n",
    "        assert len(matches) == 1, f\"text is {text}\\nmatches is {matches}\"\n",
    "        final_verdict = matches[0]\n",
    "        if final_verdict == \"C\" or not is_shuffled:\n",
    "            return score_mapping[final_verdict]\n",
    "        return score_mapping[\"B\"] if final_verdict == \"A\" else score_mapping[\"A\"]\n",
    "    df = pd.read_csv(file)\n",
    "    winners = df.apply(lambda row: get_score(row[GPT4_COMPARISON_RESPONSE], row[IS_SHUFFLED]), axis = 1)\n",
    "    # print(winners) # TODO: remove later, currently used to debug\n",
    "    return f\"{winners.mean() * 100:.0f}%\""
   ]
  },
  {
   "cell_type": "code",
   "execution_count": 4,
   "metadata": {},
   "outputs": [
    {
     "data": {
      "text/plain": [
       "{'cleaned_llama2_lr_3e-4_ckpt117_GPT4_comparison_evaluations': '10%',\n",
       " 'cleaned_llama2_lr_3e-5_ckpt117_GPT4_comparison_evaluations': '80%',\n",
       " 'cleaned_llama2_lr_3e-6_ckpt117_GPT4_comparison_evaluations': '50%',\n",
       " 'cleaned_llama3_lr_3e-4_ckpt117_GPT4_comparison_evaluations': '100%',\n",
       " 'cleaned_llama3_lr_3e-5_ckpt117_GPT4_comparison_evaluations': '90%',\n",
       " 'cleaned_llama3_lr_3e-6_ckpt117_GPT4_comparison_evaluations': '30%'}"
      ]
     },
     "metadata": {},
     "output_type": "display_data"
    }
   ],
   "source": [
    "gpt35_result_files = sorted(list(GPT35_RESULT_DIR.glob(\"*.csv\")))\n",
    "gpt35_win_rates = {}\n",
    "for result_file in gpt35_result_files:\n",
    "    try: \n",
    "        gpt35_win_rates[result_file.stem] = get_scores(result_file)\n",
    "    except Exception as e:\n",
    "        print(e)\n",
    "display(gpt35_win_rates)"
   ]
  },
  {
   "cell_type": "code",
   "execution_count": 5,
   "metadata": {},
   "outputs": [
    {
     "data": {
      "text/plain": [
       "{'cleaned_llama2_lr_3e-4_ckpt117_LlaMA_base_comparison_evaluations': '50%',\n",
       " 'cleaned_llama2_lr_3e-5_ckpt117_LlaMA_base_comparison_evaluations': '50%',\n",
       " 'cleaned_llama2_lr_3e-6_ckpt117_LlaMA_base_comparison_evaluations': '50%',\n",
       " 'cleaned_llama3_lr_3e-4_ckpt117_LlaMA_base_comparison_evaluations': '50%',\n",
       " 'cleaned_llama3_lr_3e-5_ckpt117_LlaMA_base_comparison_evaluations': '40%',\n",
       " 'cleaned_llama3_lr_3e-6_ckpt117_LlaMA_base_comparison_evaluations': '45%'}"
      ]
     },
     "metadata": {},
     "output_type": "display_data"
    }
   ],
   "source": [
    "llama_base_result_files = sorted(list(LLAMA_BASE_RESULT_DIR.glob(\"*.csv\")))\n",
    "llama_base_win_rates = {}\n",
    "for result_file in llama_base_result_files:\n",
    "    try: \n",
    "        llama_base_win_rates[result_file.stem] = get_scores(result_file)\n",
    "    except Exception as e:\n",
    "        print(e)\n",
    "display(llama_base_win_rates)"
   ]
  },
  {
   "cell_type": "code",
   "execution_count": null,
   "metadata": {},
   "outputs": [],
   "source": []
  }
 ],
 "metadata": {
  "kernelspec": {
   "display_name": "venv",
   "language": "python",
   "name": "python3"
  },
  "language_info": {
   "codemirror_mode": {
    "name": "ipython",
    "version": 3
   },
   "file_extension": ".py",
   "mimetype": "text/x-python",
   "name": "python",
   "nbconvert_exporter": "python",
   "pygments_lexer": "ipython3",
   "version": "3.11.8"
  }
 },
 "nbformat": 4,
 "nbformat_minor": 2
}
