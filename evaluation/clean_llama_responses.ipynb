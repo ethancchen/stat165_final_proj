{
 "cells": [
  {
   "cell_type": "code",
   "execution_count": 1,
   "metadata": {},
   "outputs": [],
   "source": [
    "from pathlib import Path\n",
    "import pandas as pd"
   ]
  },
  {
   "cell_type": "code",
   "execution_count": 23,
   "metadata": {},
   "outputs": [],
   "source": [
    "LLAMA_RESPONSE = \"llama_response\"\n",
    "QUESTION = \"question\"\n",
    "RESOLUTION_CRITERIA = \"resolution_criteria\"\n",
    "LLAMA_RESPONSE = \"llama_response\"\n",
    "OUTPUT_DIR = Path().resolve() / \"output\"\n",
    "CLEANED_OUTPUT_DIR = Path().resolve() / \"cleaned_output\"\n",
    "GPT35_CSV = Path().resolve().parent / \"inference\" / \"output\" / \"GPT-3.5_sampled_test_set_responses.csv\"\n",
    "assert OUTPUT_DIR.exists()\n",
    "assert GPT35_CSV.exists()\n",
    "CLEANED_OUTPUT_DIR.mkdir(exist_ok=True)"
   ]
  },
  {
   "cell_type": "code",
   "execution_count": 3,
   "metadata": {},
   "outputs": [],
   "source": [
    "output_files = list(OUTPUT_DIR.glob(\"*.csv\"))"
   ]
  },
  {
   "cell_type": "code",
   "execution_count": 15,
   "metadata": {},
   "outputs": [],
   "source": [
    "OUTPUT_FILE_INDEX = 0\n",
    "df_llama1 = pd.read_csv(output_files[OUTPUT_FILE_INDEX])"
   ]
  },
  {
   "cell_type": "code",
   "execution_count": 5,
   "metadata": {},
   "outputs": [
    {
     "data": {
      "text/html": [
       "<div>\n",
       "<style scoped>\n",
       "    .dataframe tbody tr th:only-of-type {\n",
       "        vertical-align: middle;\n",
       "    }\n",
       "\n",
       "    .dataframe tbody tr th {\n",
       "        vertical-align: top;\n",
       "    }\n",
       "\n",
       "    .dataframe thead th {\n",
       "        text-align: right;\n",
       "    }\n",
       "</style>\n",
       "<table border=\"1\" class=\"dataframe\">\n",
       "  <thead>\n",
       "    <tr style=\"text-align: right;\">\n",
       "      <th></th>\n",
       "      <th>question</th>\n",
       "      <th>resolution_criteria</th>\n",
       "      <th>general_prompt</th>\n",
       "      <th>llama_response</th>\n",
       "    </tr>\n",
       "  </thead>\n",
       "  <tbody>\n",
       "    <tr>\n",
       "      <th>0</th>\n",
       "      <td>Sam Altman criminal charges by Nov 30?</td>\n",
       "      <td>Not applicable/available for this question.</td>\n",
       "      <td>Here is a forecasting question: Sam Altman cri...</td>\n",
       "      <td>Here is a forecasting question: Sam Altman cri...</td>\n",
       "    </tr>\n",
       "    <tr>\n",
       "      <th>1</th>\n",
       "      <td>Will Prigozhin make an appearance by Friday?</td>\n",
       "      <td>Not applicable/available for this question.</td>\n",
       "      <td>Here is a forecasting question: Will Prigozhin...</td>\n",
       "      <td>Here is a forecasting question: Will Prigozhin...</td>\n",
       "    </tr>\n",
       "    <tr>\n",
       "      <th>2</th>\n",
       "      <td>Will xQc beat Forsen's Minecraft record by the...</td>\n",
       "      <td>Not applicable/available for this question.</td>\n",
       "      <td>Here is a forecasting question: Will xQc beat ...</td>\n",
       "      <td>Here is a forecasting question: Will xQc beat ...</td>\n",
       "    </tr>\n",
       "    <tr>\n",
       "      <th>3</th>\n",
       "      <td>NFL Week 12 (Nov 26): Will the Philadelphia Ea...</td>\n",
       "      <td>Not applicable/available for this question.</td>\n",
       "      <td>Here is a forecasting question: NFL Week 12 (N...</td>\n",
       "      <td>Here is a forecasting question: NFL Week 12 (N...</td>\n",
       "    </tr>\n",
       "    <tr>\n",
       "      <th>4</th>\n",
       "      <td>Will General Sergei Surovikin be stripped of h...</td>\n",
       "      <td>The question will resolve Yes if there are off...</td>\n",
       "      <td>Here is a forecasting question: Will General S...</td>\n",
       "      <td>Here is a forecasting question: Will General S...</td>\n",
       "    </tr>\n",
       "    <tr>\n",
       "      <th>5</th>\n",
       "      <td>NBA (Oct 25, 2023): Will the Indiana Pacers be...</td>\n",
       "      <td>Not applicable/available for this question.</td>\n",
       "      <td>Here is a forecasting question: NBA (Oct 25, 2...</td>\n",
       "      <td>Here is a forecasting question: NBA (Oct 25, 2...</td>\n",
       "    </tr>\n",
       "    <tr>\n",
       "      <th>6</th>\n",
       "      <td>Will the next speaker be elected by Oct 10?</td>\n",
       "      <td>Not applicable/available for this question.</td>\n",
       "      <td>Here is a forecasting question: Will the next ...</td>\n",
       "      <td>Here is a forecasting question: Will the next ...</td>\n",
       "    </tr>\n",
       "    <tr>\n",
       "      <th>7</th>\n",
       "      <td>Will 'Barbie' gross over $16m this weekend?</td>\n",
       "      <td>Not applicable/available for this question.</td>\n",
       "      <td>Here is a forecasting question: Will 'Barbie' ...</td>\n",
       "      <td>Here is a forecasting question: Will 'Barbie' ...</td>\n",
       "    </tr>\n",
       "    <tr>\n",
       "      <th>8</th>\n",
       "      <td>Will Kane sign for Bayern Munich?</td>\n",
       "      <td>Not applicable/available for this question.</td>\n",
       "      <td>Here is a forecasting question: Will Kane sign...</td>\n",
       "      <td>Here is a forecasting question: Will Kane sign...</td>\n",
       "    </tr>\n",
       "    <tr>\n",
       "      <th>9</th>\n",
       "      <td>Will Adam22 and Lena The Plug break up this mo...</td>\n",
       "      <td>Not applicable/available for this question.</td>\n",
       "      <td>Here is a forecasting question: Will Adam22 an...</td>\n",
       "      <td>Here is a forecasting question: Will Adam22 an...</td>\n",
       "    </tr>\n",
       "  </tbody>\n",
       "</table>\n",
       "</div>"
      ],
      "text/plain": [
       "                                            question  \\\n",
       "0             Sam Altman criminal charges by Nov 30?   \n",
       "1       Will Prigozhin make an appearance by Friday?   \n",
       "2  Will xQc beat Forsen's Minecraft record by the...   \n",
       "3  NFL Week 12 (Nov 26): Will the Philadelphia Ea...   \n",
       "4  Will General Sergei Surovikin be stripped of h...   \n",
       "5  NBA (Oct 25, 2023): Will the Indiana Pacers be...   \n",
       "6        Will the next speaker be elected by Oct 10?   \n",
       "7        Will 'Barbie' gross over $16m this weekend?   \n",
       "8                  Will Kane sign for Bayern Munich?   \n",
       "9  Will Adam22 and Lena The Plug break up this mo...   \n",
       "\n",
       "                                 resolution_criteria  \\\n",
       "0        Not applicable/available for this question.   \n",
       "1        Not applicable/available for this question.   \n",
       "2        Not applicable/available for this question.   \n",
       "3        Not applicable/available for this question.   \n",
       "4  The question will resolve Yes if there are off...   \n",
       "5        Not applicable/available for this question.   \n",
       "6        Not applicable/available for this question.   \n",
       "7        Not applicable/available for this question.   \n",
       "8        Not applicable/available for this question.   \n",
       "9        Not applicable/available for this question.   \n",
       "\n",
       "                                      general_prompt  \\\n",
       "0  Here is a forecasting question: Sam Altman cri...   \n",
       "1  Here is a forecasting question: Will Prigozhin...   \n",
       "2  Here is a forecasting question: Will xQc beat ...   \n",
       "3  Here is a forecasting question: NFL Week 12 (N...   \n",
       "4  Here is a forecasting question: Will General S...   \n",
       "5  Here is a forecasting question: NBA (Oct 25, 2...   \n",
       "6  Here is a forecasting question: Will the next ...   \n",
       "7  Here is a forecasting question: Will 'Barbie' ...   \n",
       "8  Here is a forecasting question: Will Kane sign...   \n",
       "9  Here is a forecasting question: Will Adam22 an...   \n",
       "\n",
       "                                      llama_response  \n",
       "0  Here is a forecasting question: Sam Altman cri...  \n",
       "1  Here is a forecasting question: Will Prigozhin...  \n",
       "2  Here is a forecasting question: Will xQc beat ...  \n",
       "3  Here is a forecasting question: NFL Week 12 (N...  \n",
       "4  Here is a forecasting question: Will General S...  \n",
       "5  Here is a forecasting question: NBA (Oct 25, 2...  \n",
       "6  Here is a forecasting question: Will the next ...  \n",
       "7  Here is a forecasting question: Will 'Barbie' ...  \n",
       "8  Here is a forecasting question: Will Kane sign...  \n",
       "9  Here is a forecasting question: Will Adam22 an...  "
      ]
     },
     "execution_count": 5,
     "metadata": {},
     "output_type": "execute_result"
    }
   ],
   "source": [
    "df_llama1"
   ]
  },
  {
   "cell_type": "code",
   "execution_count": 6,
   "metadata": {},
   "outputs": [
    {
     "data": {
      "text/plain": [
       "question                          Sam Altman criminal charges by Nov 30?\n",
       "resolution_criteria          Not applicable/available for this question.\n",
       "general_prompt         Here is a forecasting question: Sam Altman cri...\n",
       "llama_response         Here is a forecasting question: Sam Altman cri...\n",
       "Name: 0, dtype: object"
      ]
     },
     "execution_count": 6,
     "metadata": {},
     "output_type": "execute_result"
    }
   ],
   "source": [
    "first_row = df_llama1.loc[0]\n",
    "first_row"
   ]
  },
  {
   "cell_type": "code",
   "execution_count": 7,
   "metadata": {},
   "outputs": [],
   "source": [
    "template = \"\"\"Here is a forecasting question: {question}\\n\\nHere are the resolution criteria of the question: {resolution_criteria}.\\n\\nBased on the forecasting question and resolution criteria, generate step-by-step reasoning to create a resolution. Output exactly 6 steps without an introduction or a conclusion.\"\"\"  # noqa: E501"
   ]
  },
  {
   "cell_type": "code",
   "execution_count": 8,
   "metadata": {},
   "outputs": [],
   "source": [
    "def left_strip(q: str, rc: str, resp: str) -> str:\n",
    "    \"\"\"Strip the prompt from the LlaMA response.\"\"\"\n",
    "    prefix = template.format(question=q, resolution_criteria=rc)\n",
    "    return resp.replace(prefix, \"\")"
   ]
  },
  {
   "cell_type": "code",
   "execution_count": 17,
   "metadata": {},
   "outputs": [],
   "source": [
    "df_llama1[LLAMA_RESPONSE] = df_llama1.apply(lambda row: left_strip(row[QUESTION], row[RESOLUTION_CRITERIA], row[LLAMA_RESPONSE]), axis=1)"
   ]
  },
  {
   "cell_type": "code",
   "execution_count": 31,
   "metadata": {},
   "outputs": [],
   "source": [
    "df_llama1.to_csv(CLEANED_OUTPUT_DIR / (\"cleaned_\" + output_files[OUTPUT_FILE_INDEX].name), index=False)"
   ]
  },
  {
   "cell_type": "code",
   "execution_count": null,
   "metadata": {},
   "outputs": [],
   "source": []
  }
 ],
 "metadata": {
  "kernelspec": {
   "display_name": "venv",
   "language": "python",
   "name": "python3"
  },
  "language_info": {
   "codemirror_mode": {
    "name": "ipython",
    "version": 3
   },
   "file_extension": ".py",
   "mimetype": "text/x-python",
   "name": "python",
   "nbconvert_exporter": "python",
   "pygments_lexer": "ipython3",
   "version": "3.11.8"
  }
 },
 "nbformat": 4,
 "nbformat_minor": 2
}
