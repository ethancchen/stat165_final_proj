{
 "cells": [
  {
   "cell_type": "code",
   "execution_count": 1,
   "metadata": {},
   "outputs": [],
   "source": [
    "%load_ext autoreload\n",
    "%autoreload 2"
   ]
  },
  {
   "cell_type": "code",
   "execution_count": 2,
   "metadata": {},
   "outputs": [],
   "source": [
    "from rlhf_dataloader import ForecastingRLHF\n",
    "from pathlib import Path"
   ]
  },
  {
   "cell_type": "code",
   "execution_count": 3,
   "metadata": {},
   "outputs": [],
   "source": [
    "data_path = Path().resolve().parent / \"data\" / \"forecasting_huggingface.csv\"\n",
    "assert data_path.exists()\n",
    "obj = ForecastingRLHF(data_path)"
   ]
  },
  {
   "cell_type": "code",
   "execution_count": 4,
   "metadata": {},
   "outputs": [],
   "source": [
    "prompt = \"\"\"Here is a forecasting question: Will advanced LIGO announce discovery of gravitational waves by Jan. 31 2016?\n",
    "\n",
    "Here are the resolution criteria of the question: The Advanced Laser Interferometer Gravitational-Wave Observatory (LIGO) re-opened in mid September after a significant upgrade.\n",
    "Designed with 10x greater sensitivity and a wider range of covered frequencies than the original LIGO, advanced LIGO should, according to its designers, have an \"enhanced physics reach that during its first several hours of operation will exceed the integrated observations of the 1 year LIGO Science Run.\"\n",
    "A full description of the experiment in gory detail can be found here.\n",
    "Calculations of the expected detection rates suggest tens and potentially hundreds of detectable events per year under reasonable assumptions about neutron star and other types of binaries (and of course assuming General Relativity is correct, etc.)\n",
    "Will the LIGO experiment publicly announce a 5-sigma (or equivalent) discovery of astrophysical gravitational waves by Jan 31, 2016?.\n",
    "\n",
    "Based on the forecasting question and resolution criteria, generate low quality step-by-step reasoning to create a resolution. Output exactly 6 steps without an introduction or a conclusion.\"\"\""
   ]
  },
  {
   "cell_type": "code",
   "execution_count": 5,
   "metadata": {},
   "outputs": [
    {
     "name": "stdout",
     "output_type": "stream",
     "text": [
      "Here is a forecasting question: Will advanced LIGO announce discovery of gravitational waves by Jan. 31 2016?\n",
      "\n",
      "Here are the resolution criteria of the question: The Advanced Laser Interferometer Gravitational-Wave Observatory (LIGO) re-opened in mid September after a significant upgrade.\n",
      "Designed with 10x greater sensitivity and a wider range of covered frequencies than the original LIGO, advanced LIGO should, according to its designers, have an \"enhanced physics reach that during its first several hours of operation will exceed the integrated observations of the 1 year LIGO Science Run.\"\n",
      "A full description of the experiment in gory detail can be found here.\n",
      "Calculations of the expected detection rates suggest tens and potentially hundreds of detectable events per year under reasonable assumptions about neutron star and other types of binaries (and of course assuming General Relativity is correct, etc.)\n",
      "Will the LIGO experiment publicly announce a 5-sigma (or equivalent) discovery of astrophysical gravitational waves by Jan 31, 2016?.\n",
      "\n",
      "Based on the forecasting question and resolution criteria, generate low quality step-by-step reasoning to create a resolution. Output exactly 6 steps without an introduction or a conclusion.\n"
     ]
    }
   ],
   "source": [
    "print(prompt)"
   ]
  },
  {
   "cell_type": "code",
   "execution_count": 6,
   "metadata": {},
   "outputs": [],
   "source": [
    "response = obj.prompt_gpt4_once(prompt=prompt)"
   ]
  },
  {
   "cell_type": "code",
   "execution_count": 7,
   "metadata": {},
   "outputs": [
    {
     "data": {
      "text/plain": [
       "'1. Set up a connection with somebody who works on the LIGO project or monitors its news. Daily check for any update regarding discovery publications or announcements.\\n\\n2. Make a rough estimate based on past projects similar to LIGO. If those projects took years to find something, assume LIGO might take the same amount of time.\\n\\n3. Listen to rumor sites and unverified online forums where enthusiasts may post insights or guesses about scientific discoveries like those LIGO is aiming for.\\n\\n4. Watch for relevant large science conferences or meetings where the LIGO team might announce discoveries to see if they have a scheduled time before the end of January.\\n\\n5. Assume that because the original LIGO and its enhancements are quite complex, and understanding their data could be challenging, the analysis might delay announcements.\\n\\n6. Take a wild guess whether LIGO’s increased sensitivity guarantees a discovery within a few months of operating based on understanding that more sensitive means better but not necessarily faster results.'"
      ]
     },
     "execution_count": 7,
     "metadata": {},
     "output_type": "execute_result"
    }
   ],
   "source": [
    "response"
   ]
  },
  {
   "cell_type": "code",
   "execution_count": 9,
   "metadata": {},
   "outputs": [
    {
     "name": "stdout",
     "output_type": "stream",
     "text": [
      "1. Set up a connection with somebody who works on the LIGO project or monitors its news. Daily check for any update regarding discovery publications or announcements.\n",
      "\n",
      "2. Make a rough estimate based on past projects similar to LIGO. If those projects took years to find something, assume LIGO might take the same amount of time.\n",
      "\n",
      "3. Listen to rumor sites and unverified online forums where enthusiasts may post insights or guesses about scientific discoveries like those LIGO is aiming for.\n",
      "\n",
      "4. Watch for relevant large science conferences or meetings where the LIGO team might announce discoveries to see if they have a scheduled time before the end of January.\n",
      "\n",
      "5. Assume that because the original LIGO and its enhancements are quite complex, and understanding their data could be challenging, the analysis might delay announcements.\n",
      "\n",
      "6. Take a wild guess whether LIGO’s increased sensitivity guarantees a discovery within a few months of operating based on understanding that more sensitive means better but not necessarily faster results.\n"
     ]
    }
   ],
   "source": [
    "print(response)"
   ]
  },
  {
   "cell_type": "code",
   "execution_count": null,
   "metadata": {},
   "outputs": [],
   "source": []
  }
 ],
 "metadata": {
  "kernelspec": {
   "display_name": "venv",
   "language": "python",
   "name": "python3"
  },
  "language_info": {
   "codemirror_mode": {
    "name": "ipython",
    "version": 3
   },
   "file_extension": ".py",
   "mimetype": "text/x-python",
   "name": "python",
   "nbconvert_exporter": "python",
   "pygments_lexer": "ipython3",
   "version": "3.11.8"
  }
 },
 "nbformat": 4,
 "nbformat_minor": 2
}
